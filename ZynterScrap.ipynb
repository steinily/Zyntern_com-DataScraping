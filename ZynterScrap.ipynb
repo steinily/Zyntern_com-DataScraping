{
 "cells": [
  {
   "cell_type": "code",
   "execution_count": 7,
   "metadata": {},
   "outputs": [],
   "source": [
    "from selenium import webdriver\n",
    "import pandas as pd\n",
    "from sqlalchemy import create_engine\n",
    "from selenium.webdriver.chrome.options import Options\n",
    "from selenium.webdriver.common.by import By\n"
   ]
  },
  {
   "cell_type": "markdown",
   "metadata": {},
   "source": [
    "#Variables"
   ]
  },
  {
   "cell_type": "code",
   "execution_count": 8,
   "metadata": {},
   "outputs": [],
   "source": [
    "page=1\n",
    "url = 'https://zyntern.com/jobs?page='+str(page)\n",
    "hirdetesLeiras = {\n",
    "    'Indicator' : [],\n",
    "    'ceg': [],\n",
    "    'pozicio' :[],\n",
    "    'skills': [],\n",
    "    'soft skills' : [] ,\n",
    "    'details' : [],\n",
    "    'bottom-location': [],\n",
    "    'link' : []\n",
    " }\n",
    "databasename = str(pd.to_datetime(\"today\").date()) +' zynter_com.db'\n",
    "engine = create_engine('sqlite:///' + databasename, echo=False)\n"
   ]
  },
  {
   "cell_type": "code",
   "execution_count": 9,
   "metadata": {},
   "outputs": [],
   "source": [
    "\n",
    "chrome_options = Options()\n",
    "chrome_options.add_argument(\"--window-size=1920,1080\")\n",
    "chrome_options.add_argument(\"--headless\")\n",
    "chrome_options.add_argument(\"--log-level=3\")\n",
    "driver = webdriver.Chrome(options=chrome_options) #options=chrome_options\n",
    "driver.get(url)"
   ]
  },
  {
   "cell_type": "markdown",
   "metadata": {},
   "source": [
    "# A szükséges információk összegyüjtése."
   ]
  },
  {
   "cell_type": "code",
   "execution_count": 10,
   "metadata": {},
   "outputs": [],
   "source": [
    "allasokSzama = driver.find_elements(By.TAG_NAME ,'h1')[0].text #állások száma"
   ]
  },
  {
   "cell_type": "markdown",
   "metadata": {},
   "source": [
    "# Fügvény a declarált dict feltöltésére a kinyert adatokkal."
   ]
  },
  {
   "cell_type": "code",
   "execution_count": 11,
   "metadata": {},
   "outputs": [],
   "source": [
    "def dictappend(hirdetesekKontener):\n",
    "    for i in range(len(hirdetesekKontener)):\n",
    "        indexincrement = len(hirdetesLeiras['Indicator'])\n",
    "        hirdetesLeiras['Indicator'].append(indexincrement)\n",
    "        hirdetesLeiras['link'].append(hirdetesekKontener[i].get_attribute('href'))\n",
    "        job = hirdetesekKontener[i].find_elements_by_xpath('./div')\n",
    "        ceg = hirdetesekKontener[i].find_elements_by_xpath('./div/h5')[0]\n",
    "        poz =hirdetesekKontener[i].find_elements_by_xpath('./div/h3')[0]\n",
    "        skills = hirdetesekKontener[i].find_elements(By.XPATH , './div/div[1]/span')\n",
    "        softSkills = hirdetesekKontener[i].find_elements(By.XPATH , './div/div[2]/span')\n",
    "        for j in range(len(job)):\n",
    "            if job[j].get_attribute('class') == 'info':\n",
    "                    hirdetesLeiras[ 'ceg'].append(ceg.text)\n",
    "                    hirdetesLeiras['pozicio'].append(poz.text)\n",
    "                    fs=\"\"\n",
    "                    fss=\"\"\n",
    "                    for i in range(len(skills)):\n",
    "                        fs += skills[i].text \n",
    "                    hirdetesLeiras['skills'].append(fs)\n",
    "                    for i in range(len(softSkills)):\n",
    "                        fss += softSkills[i].text\n",
    "                    hirdetesLeiras['soft skills'].append(fss)\n",
    "            elif   job[j].get_attribute('class') == 'details'  :\n",
    "                    hirdetesLeiras[ 'details'].append(job[j].text.replace(\"\\n\" , \" \"))\n",
    "            elif  job[j].get_attribute('class') =='bottom-location':\n",
    "                hirdetesLeiras[ 'bottom-location'].append(job[j].text)"
   ]
  },
  {
   "cell_type": "markdown",
   "metadata": {},
   "source": [
    "# Az oldal megnyitása , a poziciók adatainak kigyüjtése , majd oldalváltás"
   ]
  },
  {
   "cell_type": "code",
   "execution_count": 12,
   "metadata": {},
   "outputs": [
    {
     "name": "stdout",
     "output_type": "stream",
     "text": [
      "https://zyntern.com/jobs?page=1\n",
      "Eddig kinyert adat : 12 \n",
      "https://zyntern.com/jobs?page=2\n",
      "Eddig kinyert adat : 24 \n",
      "https://zyntern.com/jobs?page=3\n",
      "Eddig kinyert adat : 36 \n",
      "https://zyntern.com/jobs?page=4\n",
      "Eddig kinyert adat : 48 \n",
      "https://zyntern.com/jobs?page=5\n",
      "Eddig kinyert adat : 60 \n",
      "https://zyntern.com/jobs?page=6\n",
      "Eddig kinyert adat : 72 \n",
      "https://zyntern.com/jobs?page=7\n",
      "Eddig kinyert adat : 84 \n",
      "https://zyntern.com/jobs?page=8\n",
      "Eddig kinyert adat : 96 \n",
      "https://zyntern.com/jobs?page=9\n",
      "Eddig kinyert adat : 108 \n",
      "https://zyntern.com/jobs?page=10\n",
      "Eddig kinyert adat : 120 \n",
      "https://zyntern.com/jobs?page=11\n",
      "Eddig kinyert adat : 132 \n",
      "https://zyntern.com/jobs?page=12\n",
      "Eddig kinyert adat : 144 \n",
      "https://zyntern.com/jobs?page=13\n",
      "Eddig kinyert adat : 156 \n",
      "https://zyntern.com/jobs?page=14\n",
      "Eddig kinyert adat : 168 \n",
      "https://zyntern.com/jobs?page=15\n",
      "Eddig kinyert adat : 180 \n",
      "https://zyntern.com/jobs?page=16\n",
      "Eddig kinyert adat : 192 \n",
      "https://zyntern.com/jobs?page=17\n",
      "Eddig kinyert adat : 204 \n",
      "https://zyntern.com/jobs?page=18\n",
      "Eddig kinyert adat : 216 \n",
      "https://zyntern.com/jobs?page=19\n",
      "Eddig kinyert adat : 228 \n",
      "https://zyntern.com/jobs?page=20\n",
      "Eddig kinyert adat : 240 \n",
      "https://zyntern.com/jobs?page=21\n",
      "Eddig kinyert adat : 252 \n",
      "https://zyntern.com/jobs?page=22\n",
      "Eddig kinyert adat : 264 \n",
      "https://zyntern.com/jobs?page=23\n",
      "Eddig kinyert adat : 276 \n",
      "https://zyntern.com/jobs?page=24\n",
      "Eddig kinyert adat : 288 \n",
      "https://zyntern.com/jobs?page=25\n",
      "Eddig kinyert adat : 291 \n",
      "https://zyntern.com/jobs?page=26\n",
      "Eddig kinyert adat : 291 \n",
      "Az oldalon talált állások száma : Állások - 291 találat ebből a mennyiségből kinyert addat : 291 \n"
     ]
    }
   ],
   "source": [
    "#Az oldalon addig lapozni amig az utolsó oldalt el nem éri .\n",
    "nincstobboldal = driver.find_elements(By.XPATH ,\"//*[contains(text() , 'Nincs találat')]\" )\n",
    "\n",
    "\n",
    "while len(nincstobboldal) == 0 : \n",
    "    url2 = 'https://zyntern.com/jobs?page='+str(page)\n",
    "    driver.get(url2)\n",
    "    driver.implicitly_wait(5)\n",
    "    hirdetesekKontener = driver.find_elements(By.CSS_SELECTOR ,'#job_listing_container > div > div > div.listings>a')\n",
    "    dictappend(hirdetesekKontener)\n",
    "    page=page+1\n",
    "    nincstobboldal = driver.find_elements(By.XPATH ,\"//*[contains(text() , 'Nincs találat')]\" )\n",
    "    print(url2)\n",
    "    print(f\"Eddig kinyert adat : {len(hirdetesLeiras['Indicator'])} \")\n",
    "print(f\"Az oldalon talált állások száma : {allasokSzama} ebből a mennyiségből kinyert addat : {len(hirdetesLeiras['Indicator'])} \")  "
   ]
  },
  {
   "cell_type": "markdown",
   "metadata": {},
   "source": [
    "# A kinyert addat mentése XLSX és SQLlite3 db formátumba."
   ]
  },
  {
   "cell_type": "code",
   "execution_count": 13,
   "metadata": {},
   "outputs": [],
   "source": [
    "df = pd.DataFrame(hirdetesLeiras)\n",
    "df = df.drop('Indicator', axis=1)\n",
    "df.to_excel(str(pd.to_datetime(\"today\").date()) + ' zyntern_com.xlsx')\n",
    "df.to_sql('hirdetesLeiras', con=engine, if_exists='append')\n",
    "driver.quit()"
   ]
  }
 ],
 "metadata": {
  "interpreter": {
   "hash": "3c394ac78fdf976952d2acc1f26b2adca52363cc50b56ef2c2a58e571e9ad933"
  },
  "kernelspec": {
   "display_name": "Python 3.9.7 64-bit ('base': conda)",
   "language": "python",
   "name": "python3"
  },
  "language_info": {
   "codemirror_mode": {
    "name": "ipython",
    "version": 3
   },
   "file_extension": ".py",
   "mimetype": "text/x-python",
   "name": "python",
   "nbconvert_exporter": "python",
   "pygments_lexer": "ipython3",
   "version": "3.9.7"
  },
  "orig_nbformat": 4
 },
 "nbformat": 4,
 "nbformat_minor": 2
}
